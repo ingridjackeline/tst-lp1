{
 "cells": [
  {
   "cell_type": "markdown",
   "id": "adopted-sympathy",
   "metadata": {},
   "source": [
    "# Manipulação de strings em Python"
   ]
  },
  {
   "cell_type": "markdown",
   "id": "cooked-communications",
   "metadata": {},
   "source": [
    "Strings são cadeias finitas de caracteres que representam palavras, frases e textos de um programa. Para declará-las, precisamos realizar a atribuição do seu valor, que é utilizado entre aspas simples(') ou duplas(\"). Por exemplo:"
   ]
  },
  {
   "cell_type": "code",
   "execution_count": 1,
   "id": "irish-praise",
   "metadata": {},
   "outputs": [],
   "source": [
    "fruta = \"melancia\"\n",
    "esporte = 'golfe'"
   ]
  },
  {
   "cell_type": "markdown",
   "id": "relative-loading",
   "metadata": {},
   "source": [
    "Existem diversas funções que podem ser aplicadas para fazer a manipulação de strings. Umas delas é a concatenação. Concatenar significa unir duas ou mais strings existentes para formar uma nova string:"
   ]
  },
  {
   "cell_type": "code",
   "execution_count": 4,
   "id": "plain-compensation",
   "metadata": {},
   "outputs": [
    {
     "data": {
      "text/plain": [
       "'futebol brasileiro'"
      ]
     },
     "execution_count": 4,
     "metadata": {},
     "output_type": "execute_result"
    }
   ],
   "source": [
    "esporte = \"futebol \"\n",
    "nacionalidade = \"brasileiro\"\n",
    "categoria = esporte + nacionalidade \n",
    "categoria "
   ]
  },
  {
   "cell_type": "markdown",
   "id": "fitted-sympathy",
   "metadata": {},
   "source": [
    "Outra função bastante utilizada é a formatação de strings. Com ela, podemos inserir valores de variáveis estabelecidas (sejam elas strings ou não), dentro de uma string. Vejamos um exemplo:"
   ]
  },
  {
   "cell_type": "code",
   "execution_count": 8,
   "id": "logical-writing",
   "metadata": {},
   "outputs": [
    {
     "data": {
      "text/plain": [
       "'Algumas mangas estavam rosas, outras estavam verdes.'"
      ]
     },
     "execution_count": 8,
     "metadata": {},
     "output_type": "execute_result"
    }
   ],
   "source": [
    "cor1 = \"rosas\"\n",
    "cor2 = \"verdes\"\n",
    "frase = f\"Algumas mangas estavam {cor1}, outras estavam {cor2}.\"\n",
    "frase"
   ]
  },
  {
   "cell_type": "code",
   "execution_count": null,
   "id": "located-eleven",
   "metadata": {},
   "outputs": [],
   "source": []
  }
 ],
 "metadata": {
  "kernelspec": {
   "display_name": "Python 3",
   "language": "python",
   "name": "python3"
  },
  "language_info": {
   "codemirror_mode": {
    "name": "ipython",
    "version": 3
   },
   "file_extension": ".py",
   "mimetype": "text/x-python",
   "name": "python",
   "nbconvert_exporter": "python",
   "pygments_lexer": "ipython3",
   "version": "3.8.5"
  }
 },
 "nbformat": 4,
 "nbformat_minor": 5
}
