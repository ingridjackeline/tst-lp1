{
 "cells": [
  {
   "cell_type": "markdown",
   "id": "controlled-focus",
   "metadata": {},
   "source": [
    "# Expressões matemáticas de Python "
   ]
  },
  {
   "cell_type": "markdown",
   "id": "connected-merchant",
   "metadata": {},
   "source": [
    "Python é uma linguagem de programação que nos permite criar os mais diversos tipos de expressões matemáticas. Para sabermos o resultado de uma determinada expressão, devemos digitá-la após o prompt e dar um ENTER. O resultado será apresentado na linha seguinte. Vejamos alguns exemplos:"
   ]
  },
  {
   "cell_type": "code",
   "execution_count": 1,
   "id": "seeing-spirituality",
   "metadata": {},
   "outputs": [
    {
     "data": {
      "text/plain": [
       "53"
      ]
     },
     "execution_count": 1,
     "metadata": {},
     "output_type": "execute_result"
    }
   ],
   "source": [
    "3 + 50"
   ]
  },
  {
   "cell_type": "code",
   "execution_count": 2,
   "id": "important-workshop",
   "metadata": {},
   "outputs": [
    {
     "data": {
      "text/plain": [
       "120"
      ]
     },
     "execution_count": 2,
     "metadata": {},
     "output_type": "execute_result"
    }
   ],
   "source": [
    "180 - 60 "
   ]
  },
  {
   "cell_type": "code",
   "execution_count": 3,
   "id": "atlantic-january",
   "metadata": {},
   "outputs": [
    {
     "data": {
      "text/plain": [
       "360"
      ]
     },
     "execution_count": 3,
     "metadata": {},
     "output_type": "execute_result"
    }
   ],
   "source": [
    "9 * 40 "
   ]
  },
  {
   "cell_type": "code",
   "execution_count": 6,
   "id": "chubby-possession",
   "metadata": {},
   "outputs": [
    {
     "data": {
      "text/plain": [
       "2"
      ]
     },
     "execution_count": 6,
     "metadata": {},
     "output_type": "execute_result"
    }
   ],
   "source": [
    "22 // 11"
   ]
  },
  {
   "cell_type": "code",
   "execution_count": 7,
   "id": "detailed-apple",
   "metadata": {},
   "outputs": [
    {
     "data": {
      "text/plain": [
       "49"
      ]
     },
     "execution_count": 7,
     "metadata": {},
     "output_type": "execute_result"
    }
   ],
   "source": [
    "7 ** 2"
   ]
  },
  {
   "cell_type": "markdown",
   "id": "entertaining-amount",
   "metadata": {},
   "source": [
    "As operações em Python normalmente se comportam como as operações matemáticas e seguem regras semelhantes. Desse modo, fica mais fácil elaborá-las. Os operadores aritméticos também são idênticos ou bastante parecidos."
   ]
  },
  {
   "cell_type": "markdown",
   "id": "green-sampling",
   "metadata": {},
   "source": [
    "Outra maneira de elaborar expressões consiste em atribuir valores a variáveis e realizar operações com essas variáveis. Exemplos: "
   ]
  },
  {
   "cell_type": "code",
   "execution_count": 11,
   "id": "suburban-norway",
   "metadata": {},
   "outputs": [
    {
     "data": {
      "text/plain": [
       "38"
      ]
     },
     "execution_count": 11,
     "metadata": {},
     "output_type": "execute_result"
    }
   ],
   "source": [
    "a = 20\n",
    "b = 18 \n",
    "a + b "
   ]
  },
  {
   "cell_type": "code",
   "execution_count": 12,
   "id": "interpreted-angle",
   "metadata": {},
   "outputs": [
    {
     "data": {
      "text/plain": [
       "125"
      ]
     },
     "execution_count": 12,
     "metadata": {},
     "output_type": "execute_result"
    }
   ],
   "source": [
    "x = 5\n",
    "y = 3\n",
    "x ** y"
   ]
  },
  {
   "cell_type": "code",
   "execution_count": null,
   "id": "cooperative-report",
   "metadata": {},
   "outputs": [],
   "source": []
  }
 ],
 "metadata": {
  "kernelspec": {
   "display_name": "Python 3",
   "language": "python",
   "name": "python3"
  },
  "language_info": {
   "codemirror_mode": {
    "name": "ipython",
    "version": 3
   },
   "file_extension": ".py",
   "mimetype": "text/x-python",
   "name": "python",
   "nbconvert_exporter": "python",
   "pygments_lexer": "ipython3",
   "version": "3.8.5"
  }
 },
 "nbformat": 4,
 "nbformat_minor": 5
}
